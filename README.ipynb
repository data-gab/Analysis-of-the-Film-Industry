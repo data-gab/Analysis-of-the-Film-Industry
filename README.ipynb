{
 "cells": [
  {
   "cell_type": "markdown",
   "metadata": {},
   "source": [
    "# Analysis of the Film Industry\n",
    "***"
   ]
  },
  {
   "cell_type": "markdown",
   "metadata": {},
   "source": [
    "<img src= \"https://sofy.tv/blog/wp-content/uploads/2019/07/movie-industry.jpg\" />"
   ]
  },
  {
   "cell_type": "markdown",
   "metadata": {},
   "source": [
    "## Objectives\n",
    "***\n",
    "The objectives of this analysis was to gain perspective and understanding of the film industry so that the client, Microsoft, has the information they need to succeed in the film industry. Data was obtained from various, reliable film databases and were filtered and analyzed using Python and libraries like Pandas, Numpy, matplotlib, and Seaborn. "
   ]
  },
  {
   "cell_type": "markdown",
   "metadata": {},
   "source": [
    "## Data Obtained from Film Industry Databases\n",
    "***"
   ]
  },
  {
   "cell_type": "markdown",
   "metadata": {},
   "source": [
    "* imdb.title.basics.cvs\n",
    "    * A subset of data provided by IMDb (Internet Movie Database) which is an online database that provides information on films, television programs, videos, video games, streaming content etc.\n",
    "    * Contains data about release year, runtime in minutes, genres, primary title, original title, and a unique title idenifier(tconst)\n",
    "    \n",
    "    \n",
    "* imdb.title.ratings.csv\n",
    "    * Another subset of data provided by IMDb\n",
    "    * Contains IMDb average rating, number of votes, and tconst for titles\n",
    "    \n",
    "    \n",
    "* tn.movie_budgets.csv\n",
    "    * A subset of data provided by the The Numbers, a movie industry data website that tracks box office revenue\n",
    "    * Contains information about titles' id, release date, production budget, domestic gross, and worldwide gross \n",
    "    \n",
    "\n",
    "* bom.movie_gross.csv\n",
    "    * A subset of data provided by Box Office Mojo that tracks box office revenue\n",
    "    * Contains data on film titles, studios, domestic gross, foreign gross, and year"
   ]
  },
  {
   "cell_type": "markdown",
   "metadata": {},
   "source": [
    "## Other Resources\n",
    "***\n",
    "\n",
    "[Slideshow url](presentation.pdf)\n",
    "\n",
    "[Video url](presentation_zoom.mp4)\n",
    "\n",
    "[Data Cleaning for Question 1](data_cleaning_q1.ipynb)\n",
    "\n",
    "[Data Cleaning for Question 2](data_cleaning_q2.ipynb)\n",
    "\n",
    "[Data Cleaning for Question 3](data_cleaning_q3.ipynb)"
   ]
  },
  {
   "cell_type": "markdown",
   "metadata": {},
   "source": [
    "## Proposed Questions\n",
    "***\n",
    "### Question 1. What Genres Have the Highest Average Ratings?\n",
    "#### To answer this question, data was collected from the following datasets:\n",
    "* imdb.title.basics.csv\n",
    "* imdb.title.ratings.csv\n",
    "\n",
    "#### Graphics\n",
    "After data was cleaned and organized (see Access to cleaned database notebooks), exploratory data analysis was performed and the following graph was created using the Python data visualization library, Seaborn."
   ]
  },
  {
   "cell_type": "markdown",
   "metadata": {},
   "source": [
    "<img src= \"images/avg ratings vs genre.png\" />"
   ]
  },
  {
   "cell_type": "markdown",
   "metadata": {},
   "source": [
    "#### Observations and Conclusions\n",
    "Looking at the graph we can see that the top 5 genres in terms of ratings are Documentaries, Biographies, History, War, and Musicals. The lowest rated genres are Thrillers, Sci-Fi, and Horror. \n",
    "\n",
    "#### Recommendations\n",
    "To make big impact in this industry, I would suggest Microsoft to make films belonging to the lowest scored genres. While it is a risk, if the movie are high quality, the fans will receive them very well since they are usually disappointed with these genres. The top scoring genres do not seem to me that they reach all audiences, however, it is easier to reach all audiences in the lower rated categories."
   ]
  },
  {
   "cell_type": "markdown",
   "metadata": {},
   "source": [
    "***\n",
    "### Question 2. Can a Larger Production Budget Improve Domestic and Worldwide Gross Profits?¶\n",
    "#### To answer this question, data was collected from the following dataset:\n",
    "* tn.movie_budgets.csv\n",
    "\n",
    "#### Graphics\n",
    " The three graphs below the demostrate the relationships between the Movie Production Budget vs. the Domestic Gross, the Movie Production Budget vs. the Worldwide Gross, and the Domestic Gross vs. Worldwide Gross."
   ]
  },
  {
   "cell_type": "markdown",
   "metadata": {},
   "source": [
    "<img src= \"images/budvsdom.png\" />"
   ]
  },
  {
   "cell_type": "markdown",
   "metadata": {},
   "source": [
    "<img src= \"images/budvsww.png\" />"
   ]
  },
  {
   "cell_type": "markdown",
   "metadata": {},
   "source": [
    "<img src= \"images/domvsww.png\" />"
   ]
  },
  {
   "cell_type": "markdown",
   "metadata": {},
   "source": [
    "#### Covariance and Correlation\n",
    "Using the information gathered through exploratory data analysis, the covariance and the correlation between the Movie Budgets, Domestic Gross, and Worldwide Gross were able to be calculated. The tables below show the covariance and correlation matrixes for the data collected.\n",
    "\n",
    "   ##### Covariance \n",
    " \n",
    "<img src= \"images/covariance.png\" />\n",
    " \n",
    "   * **Positive covariance** = positive relationship\n",
    "   * **Negative covariance** = inverse relationship\n",
    "   * **Covariance equal to or close to 0** = no linear relationship"
   ]
  },
  {
   "cell_type": "markdown",
   "metadata": {},
   "source": [
    "##### Correlation\n",
    "\n",
    "<img src= \"images/correlation.png\" />\n",
    "\n",
    "* **If two variables have a correlation of +0.9**: the change in one item results in a similar change to another item\n",
    "* **If two variables have a correlation of -0.9**: the change in one variable results in an opposite change in the other variable\n",
    "* **If two variables have a correlation near 0**: there would be no effect\n",
    "***"
   ]
  },
  {
   "cell_type": "markdown",
   "metadata": {},
   "source": [
    "#### Observations and Conclusions\n",
    "Looking at the covariance table, we can see that domestic gross vs movie production budget has a positive covariance meaning the direction of their relationship is postive. The correlation between domestic gross vs movie production budget is 0.685682 which demonstrates a low correlation, meaning that change in one will slightly impact the other. \n",
    "\n",
    "The covariance between worldwide gross vs movie production budget is positive meaning the direction of their relationship is postive. The correlation between worldwide gross vs movie production budget is 0.748306, which is higher than the correlation between domestic gross vs movie production budget. This shows that a change in worldwide gross with change movie production budget in a similar way.\n",
    "\n",
    "The covariance between domestic gross and worldwide gross is positive. Their correlation is 0.938853, meaning that there is a high correlation between the two variables.\n",
    "\n",
    "All of this can be seen by observing the graphs.\n",
    "\n",
    "#### Recommendations\n",
    "The correlation obtained for domestic gross and movie production budject was lower than the correlation obtained for worldwide gross and movie production budget. This suggests that international audiences are more interested in movies with higher budgets. Higher movie budgets mean that movie studios can hire A-list actors, have quality graphics, writers, directors, producters etc. This makes sense since A list actors, directors, etc. are more likely to be known worldwide. That being said, a higher budget movie allows for a better film crew and actors, therefore, it is best for Microsoft to have a large movie budget so that they can get a large return on investment.\n",
    "\n",
    "When looking at domestic gross and worldwide gross, their correlation was 0.938853, which demostrates a very high correlation. This means that if a movie does well domestically, it will most likely do well internationally. The opposite as well is true. If a movie does not do well domestically, the same will be for the international gross. In order for Microsoft to succeed in the film industry, they should focus on how domestic audiences will receive a film and they should consider releasing their movies abroad to make the most money."
   ]
  },
  {
   "cell_type": "markdown",
   "metadata": {},
   "source": [
    "***\n",
    "### Question 3. What are the Top 15 Film Studios in Terms of Total Gross Revenue?¶\n",
    "#### To answer this question, data was collected from the following dataset:\n",
    "* bom.movie_gross.cvs\n",
    "\n",
    "#### Graphics\n",
    " The graph below demostrates the top 15 film studios in terms of total gross revenue. Total gross revenue was determined by adding domestic gross and foreign gross. "
   ]
  },
  {
   "cell_type": "markdown",
   "metadata": {},
   "source": [
    "<img src= \"images/top15studios.png\" />"
   ]
  },
  {
   "cell_type": "markdown",
   "metadata": {},
   "source": [
    "#### Observations and Conclusions\n",
    "The graph above shows the top 15 film studios according to total revenue made by the studios. The top 5 film studios are Buena Vista Studios, 20th Century Fox Studios, Warner Bros Studios, Universal Studios, and Sony Studios. Buenva Vista Studios are best known for creating many of the Walt Disney films and Marvel Comics movies. Twenth Century Fox Studios have created some of the most well known films such as Titanic, the Home Alone series, Ice Age series, Cast Away, Avatar, etc. Warner Bros. Studios are known for popular films as the Harry Potter Series, The Shining, The Matrix, Space Jam, DC Comics films, etc. Universal Studios has created many famous movies like the Jurassic Park series, the Fast and Furious series, Jaws, Shrek Series, etc.\n",
    "\n",
    "#### Recommendations\n",
    "The most successful movies studios produce a majority of animation and action films. Buena Vista studio films produce mainly animation films so they perform the best. Animation films can appeal to audiences of all ages since generally they have a G or PG rating. Twenth Century Fox Studios produce some animation, but they also produce a lot of action films. Something that the top 5 film studios all have in common is that they all have very famous movie series'.\n",
    "\n",
    "For Microsoft to succeed in this competitive industry, it would be most beneficial for them to produce animation and action movies. As well as finding good writers and producers to create a movie series that will be loved by audiences. A good movie series makes sure that audiences will return again for the sequel.\n"
   ]
  }
 ],
 "metadata": {
  "kernelspec": {
   "display_name": "learn-env",
   "language": "python",
   "name": "learn-env"
  },
  "language_info": {
   "codemirror_mode": {
    "name": "ipython",
    "version": 3
   },
   "file_extension": ".py",
   "mimetype": "text/x-python",
   "name": "python",
   "nbconvert_exporter": "python",
   "pygments_lexer": "ipython3",
   "version": "3.6.9"
  },
  "toc": {
   "base_numbering": 1,
   "nav_menu": {},
   "number_sections": false,
   "sideBar": true,
   "skip_h1_title": false,
   "title_cell": "Table of Contents",
   "title_sidebar": "Contents",
   "toc_cell": false,
   "toc_position": {
    "height": "calc(100% - 180px)",
    "left": "10px",
    "top": "150px",
    "width": "165px"
   },
   "toc_section_display": true,
   "toc_window_display": false
  },
  "varInspector": {
   "cols": {
    "lenName": 16,
    "lenType": 16,
    "lenVar": 40
   },
   "kernels_config": {
    "python": {
     "delete_cmd_postfix": "",
     "delete_cmd_prefix": "del ",
     "library": "var_list.py",
     "varRefreshCmd": "print(var_dic_list())"
    },
    "r": {
     "delete_cmd_postfix": ") ",
     "delete_cmd_prefix": "rm(",
     "library": "var_list.r",
     "varRefreshCmd": "cat(var_dic_list()) "
    }
   },
   "types_to_exclude": [
    "module",
    "function",
    "builtin_function_or_method",
    "instance",
    "_Feature"
   ],
   "window_display": false
  }
 },
 "nbformat": 4,
 "nbformat_minor": 4
}
