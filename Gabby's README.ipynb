{
 "cells": [
  {
   "cell_type": "markdown",
   "metadata": {},
   "source": [
    "# Analysis of the Film Industry"
   ]
  },
  {
   "cell_type": "markdown",
   "metadata": {},
   "source": [
    "<img src= \"https://sofy.tv/blog/wp-content/uploads/2019/07/movie-industry.jpg\" />"
   ]
  },
  {
   "cell_type": "markdown",
   "metadata": {},
   "source": [
    "## Objectives\n",
    "The objectives of this analysis was to gain perspective and understanding of the film industry so that the client, Microsoft, has the information they need to succeed in the film industry. Data was obtained from various, reliable film databases and were filtered and analyzed using Python and libraries like Pandas, Numpy, matplotlib, and Seaborn. "
   ]
  },
  {
   "cell_type": "markdown",
   "metadata": {},
   "source": [
    "## Data Obtained from Film Industry Databases"
   ]
  },
  {
   "cell_type": "markdown",
   "metadata": {},
   "source": [
    "* imdb.title.basics.cvs\n",
    "    * A subset of data provided by IMDb (Internet Movie Database) which is an online database that provides information on films, television programs, videos, video games, streaming content etc.\n",
    "    * Contains data about release year, runtime in minutes, genres, primary title, original title, and a unique title idenifier(tconst)\n",
    "    \n",
    "    \n",
    "* imdb.title.ratings.csv\n",
    "    * Another subset of data provided by IMDb\n",
    "    * Contains IMDb average rating, number of votes, and tconst for titles\n",
    "    \n",
    "    \n",
    "* tn.movie_budgets.csv\n",
    "    * Contains information about titles' id, release date, production budget, domestic gross, and worldwide gross \n",
    "    \n",
    "\n",
    "* bom.movie_gross.cv\n",
    "    * A subset of data provided by Box Office Mojo that tracks box office revenue\n",
    "    * Contains data on film titles, studios, domestic gross, foreign gross, and year"
   ]
  },
  {
   "cell_type": "markdown",
   "metadata": {},
   "source": [
    "## Access to cleaned database notebooks"
   ]
  },
  {
   "cell_type": "markdown",
   "metadata": {},
   "source": [
    "links"
   ]
  },
  {
   "cell_type": "markdown",
   "metadata": {},
   "source": [
    "# Proposed Questions"
   ]
  }
 ],
 "metadata": {
  "kernelspec": {
   "display_name": "learn-env",
   "language": "python",
   "name": "learn-env"
  },
  "language_info": {
   "codemirror_mode": {
    "name": "ipython",
    "version": 3
   },
   "file_extension": ".py",
   "mimetype": "text/x-python",
   "name": "python",
   "nbconvert_exporter": "python",
   "pygments_lexer": "ipython3",
   "version": "3.6.9"
  },
  "toc": {
   "base_numbering": 1,
   "nav_menu": {},
   "number_sections": false,
   "sideBar": true,
   "skip_h1_title": false,
   "title_cell": "Table of Contents",
   "title_sidebar": "Contents",
   "toc_cell": false,
   "toc_position": {},
   "toc_section_display": true,
   "toc_window_display": false
  },
  "varInspector": {
   "cols": {
    "lenName": 16,
    "lenType": 16,
    "lenVar": 40
   },
   "kernels_config": {
    "python": {
     "delete_cmd_postfix": "",
     "delete_cmd_prefix": "del ",
     "library": "var_list.py",
     "varRefreshCmd": "print(var_dic_list())"
    },
    "r": {
     "delete_cmd_postfix": ") ",
     "delete_cmd_prefix": "rm(",
     "library": "var_list.r",
     "varRefreshCmd": "cat(var_dic_list()) "
    }
   },
   "types_to_exclude": [
    "module",
    "function",
    "builtin_function_or_method",
    "instance",
    "_Feature"
   ],
   "window_display": false
  }
 },
 "nbformat": 4,
 "nbformat_minor": 4
}
